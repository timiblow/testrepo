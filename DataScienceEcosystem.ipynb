{
 "cells": [
  {
   "cell_type": "markdown",
   "id": "7c6f3b21-c89e-4a21-9037-a3badf9c9bca",
   "metadata": {
    "tags": []
   },
   "source": [
    "# Data Science Tools and Ecosystem"
   ]
  },
  {
   "cell_type": "markdown",
   "id": "3b0bc335-ac86-4693-bd7a-88972724863a",
   "metadata": {},
   "source": [
    "In this notebook, Data Science Tools and Ecosystem are summarized.\n",
    "\n",
    "Objectives:\n",
    "- There different types of languages for data science\n",
    "- There are different tools and packages to use as a data scientist\n",
    "- Jupyter Notebook supports numerous languages in different kernels\n",
    "- We have different libraries to work with as data scientists"
   ]
  },
  {
   "cell_type": "markdown",
   "id": "4b364608-5bb4-4c1b-93cc-0746c21ff15e",
   "metadata": {},
   "source": [
    "Some of the popular languages that Data Scientists use are:\n",
    "1. Python\n",
    "2. R\n",
    "3. Java\n",
    "4. Scala"
   ]
  },
  {
   "cell_type": "markdown",
   "id": "1a403a6e-c68a-45fa-a090-3a5ca7309998",
   "metadata": {},
   "source": [
    "Some of the commonly used libraries used by Data Scientists include:\n",
    "\n",
    "1. Scikit- Learn\n",
    "2. Keras\n",
    "3. Tensorflow\n",
    "4. PyTorch"
   ]
  },
  {
   "cell_type": "markdown",
   "id": "22393049-3a27-4c3e-bada-4bdfc1e1dc66",
   "metadata": {},
   "source": [
    "Data Science Tools\n",
    "\n",
    "\n",
    "|  Data Science Tools |\n",
    "| :- | \n",
    "| JupyterNotebook |\n",
    "| RStudio |\n",
    "| GoogleColab |\n"
   ]
  },
  {
   "cell_type": "markdown",
   "id": "08d74afc-fcc8-4c87-9d54-8376f7570092",
   "metadata": {},
   "source": [
    "### Below are a few examples of evaluating arithmetic expressions in Python"
   ]
  },
  {
   "cell_type": "code",
   "execution_count": 2,
   "id": "bcaa587d-f154-4b27-bbb8-bf183f5e9046",
   "metadata": {
    "tags": []
   },
   "outputs": [
    {
     "data": {
      "text/plain": [
       "17"
      ]
     },
     "execution_count": 2,
     "metadata": {},
     "output_type": "execute_result"
    }
   ],
   "source": [
    "#This a simple arithmetic expression to mutiply then add integers\n",
    "(3*4)+5"
   ]
  },
  {
   "cell_type": "code",
   "execution_count": 6,
   "id": "64797cbb-f39d-4f1e-8814-ba97d356dd2d",
   "metadata": {
    "tags": []
   },
   "outputs": [
    {
     "data": {
      "text/plain": [
       "3.3333333333333335"
      ]
     },
     "execution_count": 6,
     "metadata": {},
     "output_type": "execute_result"
    }
   ],
   "source": [
    "#This will convert 200 minutes to hours by diving by 60\n",
    "\n",
    "200/60"
   ]
  },
  {
   "cell_type": "markdown",
   "id": "34c6b6d4-2d2d-47b6-8598-f30477789ff4",
   "metadata": {},
   "source": [
    "## Author\n",
    "Awofiranye Oluwatimilehin Moses"
   ]
  },
  {
   "cell_type": "code",
   "execution_count": null,
   "id": "5173160c-80d1-4c41-ae73-1f08aa5e6b67",
   "metadata": {},
   "outputs": [],
   "source": []
  }
 ],
 "metadata": {
  "kernelspec": {
   "display_name": "Python",
   "language": "python",
   "name": "conda-env-python-py"
  },
  "language_info": {
   "codemirror_mode": {
    "name": "ipython",
    "version": 3
   },
   "file_extension": ".py",
   "mimetype": "text/x-python",
   "name": "python",
   "nbconvert_exporter": "python",
   "pygments_lexer": "ipython3",
   "version": "3.7.12"
  }
 },
 "nbformat": 4,
 "nbformat_minor": 5
}
